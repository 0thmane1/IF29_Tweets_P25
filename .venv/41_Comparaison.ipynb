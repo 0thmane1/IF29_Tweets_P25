{
 "cells": [
  {
   "cell_type": "code",
   "execution_count": 2,
   "id": "initial_id",
   "metadata": {
    "collapsed": true,
    "ExecuteTime": {
     "end_time": "2025-06-15T13:44:34.704663900Z",
     "start_time": "2025-06-15T13:44:32.546541200Z"
    }
   },
   "outputs": [
    {
     "name": "stdout",
     "output_type": "stream",
     "text": [
      "\n",
      "=== Comparaison des outliers détectés (KMeans vs Random Forest) ===\n",
      "\n",
      " KMeans_outliers  RF_outliers  Common_outliers  Pourcentage_RF_dans_KMeans  Pourcentage_KMeans_dans_RF\n",
      "            2676         2675             1299                       48.56                       48.54\n"
     ]
    }
   ],
   "source": [
    "from pymongo import MongoClient\n",
    "import pandas as pd\n",
    "\n",
    "# Connexion MongoDB\n",
    "client = MongoClient(\"localhost\", 27017)\n",
    "db = client[\"IF29_twitter_db\"]\n",
    "\n",
    "# Charger les outliers K-Means (acp_outliers)\n",
    "acp_outliers_df = pd.DataFrame(list(db[\"acp_outliers\"].find({}, {\"_id\": 1})))\n",
    "acp_mapping_df = pd.DataFrame(list(db[\"acp_db\"].find({}, {\"_id\": 1, \"user_id\": 1})))\n",
    "acp_outliers_with_uid = pd.merge(acp_outliers_df, acp_mapping_df, on=\"_id\", how=\"left\")\n",
    "acp_user_ids = set(acp_outliers_with_uid[\"user_id\"].astype(str))\n",
    "\n",
    "# Charger les outliers Random Forest (supervisé)\n",
    "rf_df = pd.DataFrame(list(db[\"users_labeled_outliers_supervised\"].find({\"is_outlier\": 1}, {\"_id\": 1})))\n",
    "rf_user_ids = set(rf_df[\"_id\"].astype(str))\n",
    "\n",
    "# Comparaison\n",
    "common_user_ids = acp_user_ids & rf_user_ids\n",
    "\n",
    "# Résumé\n",
    "summary = {\n",
    "    \"KMeans_outliers\": len(acp_user_ids),\n",
    "    \"RF_outliers\": len(rf_user_ids),\n",
    "    \"Common_outliers\": len(common_user_ids),\n",
    "    \"Pourcentage_RF_dans_KMeans\": round(len(common_user_ids) / len(rf_user_ids) * 100, 2) if rf_user_ids else 0,\n",
    "    \"Pourcentage_KMeans_dans_RF\": round(len(common_user_ids) / len(acp_user_ids) * 100, 2) if acp_user_ids else 0\n",
    "}\n",
    "\n",
    "summary_df = pd.DataFrame([summary])\n",
    "print(\"\\n=== Comparaison des outliers détectés (KMeans vs Random Forest) ===\\n\")\n",
    "print(summary_df.to_string(index=False))\n"
   ]
  },
  {
   "cell_type": "code",
   "outputs": [],
   "source": [],
   "metadata": {
    "collapsed": false
   },
   "id": "b1758a3ef144cb7a"
  }
 ],
 "metadata": {
  "kernelspec": {
   "display_name": "Python 3",
   "language": "python",
   "name": "python3"
  },
  "language_info": {
   "codemirror_mode": {
    "name": "ipython",
    "version": 2
   },
   "file_extension": ".py",
   "mimetype": "text/x-python",
   "name": "python",
   "nbconvert_exporter": "python",
   "pygments_lexer": "ipython2",
   "version": "2.7.6"
  }
 },
 "nbformat": 4,
 "nbformat_minor": 5
}
