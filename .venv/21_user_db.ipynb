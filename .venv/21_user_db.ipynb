{
 "cells": [
  {
   "cell_type": "code",
   "execution_count": 3,
   "id": "initial_id",
   "metadata": {
    "collapsed": true,
    "ExecuteTime": {
     "end_time": "2025-06-09T11:09:26.051005600Z",
     "start_time": "2025-06-09T11:09:19.961870100Z"
    }
   },
   "outputs": [
    {
     "name": "stdout",
     "output_type": "stream",
     "text": [
      "267468 utilisateurs insérés dans 'user_db'.\n"
     ]
    }
   ],
   "source": [
    "from pymongo import MongoClient\n",
    "\n",
    "# ⚙ Connexion à MongoDB\n",
    "client = MongoClient(\"localhost\", 27017)\n",
    "db = client[\"IF29_twitter_db\"]\n",
    "\n",
    "# Ancienne collection\n",
    "source_col = db[\"twitter_users\"]\n",
    "\n",
    "# Nouvelle collection \"propre\"\n",
    "target_col = db[\"user_db\"]\n",
    "target_col.drop()  # On repart de zéro\n",
    "\n",
    "# Champs pertinents à conserver pour l'analyse\n",
    "fields_to_keep = {\n",
    "    field: 1 for field in [\n",
    "        \"id\", \"created_at\",\n",
    "        \"followers_count\", \"friends_count\", \"statuses_count\", \"favourites_count\", \"listed_count\",\n",
    "        \"tweets_per_day\", \"favorites_per_tweet\", \"account_age_days\",\n",
    "        \"followers_friends_ratio\", \"friends_active_ratio\", \"popularity_score\",\n",
    "        \"avg_num_hashtags\", \"avg_num_mentions\", \"avg_num_urls\",\n",
    "        \"avg_reply_count\", \"avg_retweet_count\", \"avg_text_length\", \"tweet_count\"\n",
    "    ]\n",
    "}\n",
    "\n",
    "# Extraction des documents nettoyés\n",
    "users = list(source_col.find({}, fields_to_keep))\n",
    "\n",
    "# Insertion dans la nouvelle collection\n",
    "if users:\n",
    "    target_col.insert_many(users)\n",
    "    print(f\"{len(users)} utilisateurs insérés dans 'user_db'.\")\n",
    "else:\n",
    "    print(\"Aucune donnée trouvée à insérer.\")\n"
   ]
  },
  {
   "cell_type": "code",
   "outputs": [],
   "source": [],
   "metadata": {
    "collapsed": false
   },
   "id": "6fbc14f1506f4b02"
  }
 ],
 "metadata": {
  "kernelspec": {
   "display_name": "Python 3",
   "language": "python",
   "name": "python3"
  },
  "language_info": {
   "codemirror_mode": {
    "name": "ipython",
    "version": 2
   },
   "file_extension": ".py",
   "mimetype": "text/x-python",
   "name": "python",
   "nbconvert_exporter": "python",
   "pygments_lexer": "ipython2",
   "version": "2.7.6"
  }
 },
 "nbformat": 4,
 "nbformat_minor": 5
}
