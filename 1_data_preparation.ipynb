{
 "cells": [
  {
   "cell_type": "code",
   "execution_count": null,
   "id": "initial_id",
   "metadata": {
    "collapsed": true,
    "ExecuteTime": {
     "end_time": "2025-06-08T16:42:38.405953300Z",
     "start_time": "2025-06-08T16:42:38.367954900Z"
    }
   },
   "outputs": [],
   "source": [
    "#Import librairies\n",
    "import os\n",
    "import jsonlines\n",
    "from pymongo import MongoClient\n",
    "\n",
    "folder_path = r\"C:\\Users\\MSI\\Desktop\\P25\\IF29\\Projet_IF29_Tweets\\.venv\\data\\tweet_worldcup_200twets\"\n",
    "\n",
    "# Connexion MongoDB\n",
    "client = MongoClient(\"localhost\", 27017)\n",
    "db = client[\"IF29_twitter_db\"]\n",
    "collection = db[\"tweets_global\"]\n",
    "\n",
    "#  Importation des fichiers\n",
    "file_list = [f for f in os.listdir(folder_path) if os.path.isfile(os.path.join(folder_path, f))]\n",
    "total_files = len(file_list)\n",
    "\n",
    "for i, filename in enumerate(file_list, start=1):\n",
    "    file_path = os.path.join(folder_path, filename)\n",
    "    try:\n",
    "        with jsonlines.open(file_path) as reader:\n",
    "            for line in reader:\n",
    "                collection.insert_one(line)\n",
    "    except Exception as e:\n",
    "        print(f\"Erreur lors de l import de {filename} : {e}\")\n",
    "\n",
    "client.close()\n",
    "\n",
    "print(f\"Importation des fichiers términés\")"
   ]
  },
  {
   "cell_type": "code",
   "outputs": [
    {
     "ename": "KeyboardInterrupt",
     "evalue": "",
     "output_type": "error",
     "traceback": [
      "\u001B[1;31m---------------------------------------------------------------------------\u001B[0m",
      "\u001B[1;31mKeyboardInterrupt\u001B[0m                         Traceback (most recent call last)",
      "Cell \u001B[1;32mIn[17], line 18\u001B[0m\n\u001B[0;32m     16\u001B[0m     \u001B[38;5;28;01mif\u001B[39;00m user \u001B[38;5;129;01mand\u001B[39;00m user[\u001B[38;5;124m\"\u001B[39m\u001B[38;5;124mid_str\u001B[39m\u001B[38;5;124m\"\u001B[39m] \u001B[38;5;129;01mnot\u001B[39;00m \u001B[38;5;129;01min\u001B[39;00m user_ids_seen:\n\u001B[0;32m     17\u001B[0m         user_ids_seen\u001B[38;5;241m.\u001B[39madd(user[\u001B[38;5;124m\"\u001B[39m\u001B[38;5;124mid_str\u001B[39m\u001B[38;5;124m\"\u001B[39m])\n\u001B[1;32m---> 18\u001B[0m         users_collection\u001B[38;5;241m.\u001B[39minsert_one(user)\n\u001B[0;32m     20\u001B[0m \u001B[38;5;28mprint\u001B[39m(\u001B[38;5;124mf\u001B[39m\u001B[38;5;124m\"\u001B[39m\u001B[38;5;132;01m{\u001B[39;00m\u001B[38;5;28mlen\u001B[39m(user_ids_seen)\u001B[38;5;132;01m}\u001B[39;00m\u001B[38;5;124m profils utilisateurs uniques ont été extraits\u001B[39m\u001B[38;5;124m\"\u001B[39m)\n\u001B[0;32m     21\u001B[0m client\u001B[38;5;241m.\u001B[39mclose()\n",
      "File \u001B[1;32m~\\anaconda3\\Lib\\site-packages\\pymongo\\synchronous\\collection.py:891\u001B[0m, in \u001B[0;36mCollection.insert_one\u001B[1;34m(self, document, bypass_document_validation, session, comment)\u001B[0m\n\u001B[0;32m    887\u001B[0m     document[\u001B[38;5;124m\"\u001B[39m\u001B[38;5;124m_id\u001B[39m\u001B[38;5;124m\"\u001B[39m] \u001B[38;5;241m=\u001B[39m ObjectId()  \u001B[38;5;66;03m# type: ignore[index]\u001B[39;00m\n\u001B[0;32m    889\u001B[0m write_concern \u001B[38;5;241m=\u001B[39m \u001B[38;5;28mself\u001B[39m\u001B[38;5;241m.\u001B[39m_write_concern_for(session)\n\u001B[0;32m    890\u001B[0m \u001B[38;5;28;01mreturn\u001B[39;00m InsertOneResult(\n\u001B[1;32m--> 891\u001B[0m     \u001B[38;5;28mself\u001B[39m\u001B[38;5;241m.\u001B[39m_insert_one(\n\u001B[0;32m    892\u001B[0m         document,\n\u001B[0;32m    893\u001B[0m         ordered\u001B[38;5;241m=\u001B[39m\u001B[38;5;28;01mTrue\u001B[39;00m,\n\u001B[0;32m    894\u001B[0m         write_concern\u001B[38;5;241m=\u001B[39mwrite_concern,\n\u001B[0;32m    895\u001B[0m         op_id\u001B[38;5;241m=\u001B[39m\u001B[38;5;28;01mNone\u001B[39;00m,\n\u001B[0;32m    896\u001B[0m         bypass_doc_val\u001B[38;5;241m=\u001B[39mbypass_document_validation,\n\u001B[0;32m    897\u001B[0m         session\u001B[38;5;241m=\u001B[39msession,\n\u001B[0;32m    898\u001B[0m         comment\u001B[38;5;241m=\u001B[39mcomment,\n\u001B[0;32m    899\u001B[0m     ),\n\u001B[0;32m    900\u001B[0m     write_concern\u001B[38;5;241m.\u001B[39macknowledged,\n\u001B[0;32m    901\u001B[0m )\n",
      "File \u001B[1;32m~\\anaconda3\\Lib\\site-packages\\pymongo\\synchronous\\collection.py:831\u001B[0m, in \u001B[0;36mCollection._insert_one\u001B[1;34m(self, doc, ordered, write_concern, op_id, bypass_doc_val, session, comment)\u001B[0m\n\u001B[0;32m    819\u001B[0m     result \u001B[38;5;241m=\u001B[39m conn\u001B[38;5;241m.\u001B[39mcommand(\n\u001B[0;32m    820\u001B[0m         \u001B[38;5;28mself\u001B[39m\u001B[38;5;241m.\u001B[39m_database\u001B[38;5;241m.\u001B[39mname,\n\u001B[0;32m    821\u001B[0m         command,\n\u001B[1;32m   (...)\u001B[0m\n\u001B[0;32m    826\u001B[0m         retryable_write\u001B[38;5;241m=\u001B[39mretryable_write,\n\u001B[0;32m    827\u001B[0m     )\n\u001B[0;32m    829\u001B[0m     _check_write_command_response(result)\n\u001B[1;32m--> 831\u001B[0m \u001B[38;5;28mself\u001B[39m\u001B[38;5;241m.\u001B[39m_database\u001B[38;5;241m.\u001B[39mclient\u001B[38;5;241m.\u001B[39m_retryable_write(\n\u001B[0;32m    832\u001B[0m     acknowledged, _insert_command, session, operation\u001B[38;5;241m=\u001B[39m_Op\u001B[38;5;241m.\u001B[39mINSERT\n\u001B[0;32m    833\u001B[0m )\n\u001B[0;32m    835\u001B[0m \u001B[38;5;28;01mif\u001B[39;00m \u001B[38;5;129;01mnot\u001B[39;00m \u001B[38;5;28misinstance\u001B[39m(doc, RawBSONDocument):\n\u001B[0;32m    836\u001B[0m     \u001B[38;5;28;01mreturn\u001B[39;00m doc\u001B[38;5;241m.\u001B[39mget(\u001B[38;5;124m\"\u001B[39m\u001B[38;5;124m_id\u001B[39m\u001B[38;5;124m\"\u001B[39m)\n",
      "File \u001B[1;32m~\\anaconda3\\Lib\\site-packages\\pymongo\\synchronous\\mongo_client.py:2061\u001B[0m, in \u001B[0;36mMongoClient._retryable_write\u001B[1;34m(self, retryable, func, session, operation, bulk, operation_id)\u001B[0m\n\u001B[0;32m   2047\u001B[0m \u001B[38;5;250m\u001B[39m\u001B[38;5;124;03m\"\"\"Execute an operation with consecutive retries if possible\u001B[39;00m\n\u001B[0;32m   2048\u001B[0m \n\u001B[0;32m   2049\u001B[0m \u001B[38;5;124;03mReturns func()'s return value on success. On error retries the same\u001B[39;00m\n\u001B[1;32m   (...)\u001B[0m\n\u001B[0;32m   2058\u001B[0m \u001B[38;5;124;03m:param bulk: bulk abstraction to execute operations in bulk, defaults to None\u001B[39;00m\n\u001B[0;32m   2059\u001B[0m \u001B[38;5;124;03m\"\"\"\u001B[39;00m\n\u001B[0;32m   2060\u001B[0m \u001B[38;5;28;01mwith\u001B[39;00m \u001B[38;5;28mself\u001B[39m\u001B[38;5;241m.\u001B[39m_tmp_session(session) \u001B[38;5;28;01mas\u001B[39;00m s:\n\u001B[1;32m-> 2061\u001B[0m     \u001B[38;5;28;01mreturn\u001B[39;00m \u001B[38;5;28mself\u001B[39m\u001B[38;5;241m.\u001B[39m_retry_with_session(retryable, func, s, bulk, operation, operation_id)\n",
      "File \u001B[1;32m~\\anaconda3\\Lib\\site-packages\\pymongo\\synchronous\\mongo_client.py:1947\u001B[0m, in \u001B[0;36mMongoClient._retry_with_session\u001B[1;34m(self, retryable, func, session, bulk, operation, operation_id)\u001B[0m\n\u001B[0;32m   1942\u001B[0m \u001B[38;5;66;03m# Ensure that the options supports retry_writes and there is a valid session not in\u001B[39;00m\n\u001B[0;32m   1943\u001B[0m \u001B[38;5;66;03m# transaction, otherwise, we will not support retry behavior for this txn.\u001B[39;00m\n\u001B[0;32m   1944\u001B[0m retryable \u001B[38;5;241m=\u001B[39m \u001B[38;5;28mbool\u001B[39m(\n\u001B[0;32m   1945\u001B[0m     retryable \u001B[38;5;129;01mand\u001B[39;00m \u001B[38;5;28mself\u001B[39m\u001B[38;5;241m.\u001B[39moptions\u001B[38;5;241m.\u001B[39mretry_writes \u001B[38;5;129;01mand\u001B[39;00m session \u001B[38;5;129;01mand\u001B[39;00m \u001B[38;5;129;01mnot\u001B[39;00m session\u001B[38;5;241m.\u001B[39min_transaction\n\u001B[0;32m   1946\u001B[0m )\n\u001B[1;32m-> 1947\u001B[0m \u001B[38;5;28;01mreturn\u001B[39;00m \u001B[38;5;28mself\u001B[39m\u001B[38;5;241m.\u001B[39m_retry_internal(\n\u001B[0;32m   1948\u001B[0m     func\u001B[38;5;241m=\u001B[39mfunc,\n\u001B[0;32m   1949\u001B[0m     session\u001B[38;5;241m=\u001B[39msession,\n\u001B[0;32m   1950\u001B[0m     bulk\u001B[38;5;241m=\u001B[39mbulk,\n\u001B[0;32m   1951\u001B[0m     operation\u001B[38;5;241m=\u001B[39moperation,\n\u001B[0;32m   1952\u001B[0m     retryable\u001B[38;5;241m=\u001B[39mretryable,\n\u001B[0;32m   1953\u001B[0m     operation_id\u001B[38;5;241m=\u001B[39moperation_id,\n\u001B[0;32m   1954\u001B[0m )\n",
      "File \u001B[1;32m~\\anaconda3\\Lib\\site-packages\\pymongo\\_csot.py:119\u001B[0m, in \u001B[0;36mapply.<locals>.csot_wrapper\u001B[1;34m(self, *args, **kwargs)\u001B[0m\n\u001B[0;32m    117\u001B[0m         \u001B[38;5;28;01mwith\u001B[39;00m _TimeoutContext(timeout):\n\u001B[0;32m    118\u001B[0m             \u001B[38;5;28;01mreturn\u001B[39;00m func(\u001B[38;5;28mself\u001B[39m, \u001B[38;5;241m*\u001B[39margs, \u001B[38;5;241m*\u001B[39m\u001B[38;5;241m*\u001B[39mkwargs)\n\u001B[1;32m--> 119\u001B[0m \u001B[38;5;28;01mreturn\u001B[39;00m func(\u001B[38;5;28mself\u001B[39m, \u001B[38;5;241m*\u001B[39margs, \u001B[38;5;241m*\u001B[39m\u001B[38;5;241m*\u001B[39mkwargs)\n",
      "File \u001B[1;32m~\\anaconda3\\Lib\\site-packages\\pymongo\\synchronous\\mongo_client.py:1993\u001B[0m, in \u001B[0;36mMongoClient._retry_internal\u001B[1;34m(self, func, session, bulk, operation, is_read, address, read_pref, retryable, operation_id)\u001B[0m\n\u001B[0;32m   1956\u001B[0m \u001B[38;5;129m@_csot\u001B[39m\u001B[38;5;241m.\u001B[39mapply\n\u001B[0;32m   1957\u001B[0m \u001B[38;5;28;01mdef\u001B[39;00m \u001B[38;5;21m_retry_internal\u001B[39m(\n\u001B[0;32m   1958\u001B[0m     \u001B[38;5;28mself\u001B[39m,\n\u001B[1;32m   (...)\u001B[0m\n\u001B[0;32m   1967\u001B[0m     operation_id: Optional[\u001B[38;5;28mint\u001B[39m] \u001B[38;5;241m=\u001B[39m \u001B[38;5;28;01mNone\u001B[39;00m,\n\u001B[0;32m   1968\u001B[0m ) \u001B[38;5;241m-\u001B[39m\u001B[38;5;241m>\u001B[39m T:\n\u001B[0;32m   1969\u001B[0m \u001B[38;5;250m    \u001B[39m\u001B[38;5;124;03m\"\"\"Internal retryable helper for all client transactions.\u001B[39;00m\n\u001B[0;32m   1970\u001B[0m \n\u001B[0;32m   1971\u001B[0m \u001B[38;5;124;03m    :param func: Callback function we want to retry\u001B[39;00m\n\u001B[1;32m   (...)\u001B[0m\n\u001B[0;32m   1980\u001B[0m \u001B[38;5;124;03m    :return: Output of the calling func()\u001B[39;00m\n\u001B[0;32m   1981\u001B[0m \u001B[38;5;124;03m    \"\"\"\u001B[39;00m\n\u001B[0;32m   1982\u001B[0m     \u001B[38;5;28;01mreturn\u001B[39;00m _ClientConnectionRetryable(\n\u001B[0;32m   1983\u001B[0m         mongo_client\u001B[38;5;241m=\u001B[39m\u001B[38;5;28mself\u001B[39m,\n\u001B[0;32m   1984\u001B[0m         func\u001B[38;5;241m=\u001B[39mfunc,\n\u001B[0;32m   1985\u001B[0m         bulk\u001B[38;5;241m=\u001B[39mbulk,\n\u001B[0;32m   1986\u001B[0m         operation\u001B[38;5;241m=\u001B[39moperation,\n\u001B[0;32m   1987\u001B[0m         is_read\u001B[38;5;241m=\u001B[39mis_read,\n\u001B[0;32m   1988\u001B[0m         session\u001B[38;5;241m=\u001B[39msession,\n\u001B[0;32m   1989\u001B[0m         read_pref\u001B[38;5;241m=\u001B[39mread_pref,\n\u001B[0;32m   1990\u001B[0m         address\u001B[38;5;241m=\u001B[39maddress,\n\u001B[0;32m   1991\u001B[0m         retryable\u001B[38;5;241m=\u001B[39mretryable,\n\u001B[0;32m   1992\u001B[0m         operation_id\u001B[38;5;241m=\u001B[39moperation_id,\n\u001B[1;32m-> 1993\u001B[0m     )\u001B[38;5;241m.\u001B[39mrun()\n",
      "File \u001B[1;32m~\\anaconda3\\Lib\\site-packages\\pymongo\\synchronous\\mongo_client.py:2730\u001B[0m, in \u001B[0;36m_ClientConnectionRetryable.run\u001B[1;34m(self)\u001B[0m\n\u001B[0;32m   2728\u001B[0m \u001B[38;5;28mself\u001B[39m\u001B[38;5;241m.\u001B[39m_check_last_error(check_csot\u001B[38;5;241m=\u001B[39m\u001B[38;5;28;01mTrue\u001B[39;00m)\n\u001B[0;32m   2729\u001B[0m \u001B[38;5;28;01mtry\u001B[39;00m:\n\u001B[1;32m-> 2730\u001B[0m     \u001B[38;5;28;01mreturn\u001B[39;00m \u001B[38;5;28mself\u001B[39m\u001B[38;5;241m.\u001B[39m_read() \u001B[38;5;28;01mif\u001B[39;00m \u001B[38;5;28mself\u001B[39m\u001B[38;5;241m.\u001B[39m_is_read \u001B[38;5;28;01melse\u001B[39;00m \u001B[38;5;28mself\u001B[39m\u001B[38;5;241m.\u001B[39m_write()\n\u001B[0;32m   2731\u001B[0m \u001B[38;5;28;01mexcept\u001B[39;00m ServerSelectionTimeoutError:\n\u001B[0;32m   2732\u001B[0m     \u001B[38;5;66;03m# The application may think the write was never attempted\u001B[39;00m\n\u001B[0;32m   2733\u001B[0m     \u001B[38;5;66;03m# if we raise ServerSelectionTimeoutError on the retry\u001B[39;00m\n\u001B[0;32m   2734\u001B[0m     \u001B[38;5;66;03m# attempt. Raise the original exception instead.\u001B[39;00m\n\u001B[0;32m   2735\u001B[0m     \u001B[38;5;28mself\u001B[39m\u001B[38;5;241m.\u001B[39m_check_last_error()\n",
      "File \u001B[1;32m~\\anaconda3\\Lib\\site-packages\\pymongo\\synchronous\\mongo_client.py:2862\u001B[0m, in \u001B[0;36m_ClientConnectionRetryable._write\u001B[1;34m(self)\u001B[0m\n\u001B[0;32m   2854\u001B[0m         \u001B[38;5;28;01mif\u001B[39;00m \u001B[38;5;28mself\u001B[39m\u001B[38;5;241m.\u001B[39m_retrying:\n\u001B[0;32m   2855\u001B[0m             _debug_log(\n\u001B[0;32m   2856\u001B[0m                 _COMMAND_LOGGER,\n\u001B[0;32m   2857\u001B[0m                 message\u001B[38;5;241m=\u001B[39m\u001B[38;5;124mf\u001B[39m\u001B[38;5;124m\"\u001B[39m\u001B[38;5;124mRetrying write attempt number \u001B[39m\u001B[38;5;132;01m{\u001B[39;00m\u001B[38;5;28mself\u001B[39m\u001B[38;5;241m.\u001B[39m_attempt_number\u001B[38;5;132;01m}\u001B[39;00m\u001B[38;5;124m\"\u001B[39m,\n\u001B[1;32m   (...)\u001B[0m\n\u001B[0;32m   2860\u001B[0m                 operationId\u001B[38;5;241m=\u001B[39m\u001B[38;5;28mself\u001B[39m\u001B[38;5;241m.\u001B[39m_operation_id,\n\u001B[0;32m   2861\u001B[0m             )\n\u001B[1;32m-> 2862\u001B[0m         \u001B[38;5;28;01mreturn\u001B[39;00m \u001B[38;5;28mself\u001B[39m\u001B[38;5;241m.\u001B[39m_func(\u001B[38;5;28mself\u001B[39m\u001B[38;5;241m.\u001B[39m_session, conn, \u001B[38;5;28mself\u001B[39m\u001B[38;5;241m.\u001B[39m_retryable)  \u001B[38;5;66;03m# type: ignore\u001B[39;00m\n\u001B[0;32m   2863\u001B[0m \u001B[38;5;28;01mexcept\u001B[39;00m PyMongoError \u001B[38;5;28;01mas\u001B[39;00m exc:\n\u001B[0;32m   2864\u001B[0m     \u001B[38;5;28;01mif\u001B[39;00m \u001B[38;5;129;01mnot\u001B[39;00m \u001B[38;5;28mself\u001B[39m\u001B[38;5;241m.\u001B[39m_retryable:\n",
      "File \u001B[1;32m~\\anaconda3\\Lib\\site-packages\\pymongo\\synchronous\\collection.py:819\u001B[0m, in \u001B[0;36mCollection._insert_one.<locals>._insert_command\u001B[1;34m(session, conn, retryable_write)\u001B[0m\n\u001B[0;32m    816\u001B[0m \u001B[38;5;28;01mif\u001B[39;00m bypass_doc_val \u001B[38;5;129;01mis\u001B[39;00m \u001B[38;5;129;01mnot\u001B[39;00m \u001B[38;5;28;01mNone\u001B[39;00m:\n\u001B[0;32m    817\u001B[0m     command[\u001B[38;5;124m\"\u001B[39m\u001B[38;5;124mbypassDocumentValidation\u001B[39m\u001B[38;5;124m\"\u001B[39m] \u001B[38;5;241m=\u001B[39m bypass_doc_val\n\u001B[1;32m--> 819\u001B[0m result \u001B[38;5;241m=\u001B[39m conn\u001B[38;5;241m.\u001B[39mcommand(\n\u001B[0;32m    820\u001B[0m     \u001B[38;5;28mself\u001B[39m\u001B[38;5;241m.\u001B[39m_database\u001B[38;5;241m.\u001B[39mname,\n\u001B[0;32m    821\u001B[0m     command,\n\u001B[0;32m    822\u001B[0m     write_concern\u001B[38;5;241m=\u001B[39mwrite_concern,\n\u001B[0;32m    823\u001B[0m     codec_options\u001B[38;5;241m=\u001B[39m\u001B[38;5;28mself\u001B[39m\u001B[38;5;241m.\u001B[39m_write_response_codec_options,\n\u001B[0;32m    824\u001B[0m     session\u001B[38;5;241m=\u001B[39msession,\n\u001B[0;32m    825\u001B[0m     client\u001B[38;5;241m=\u001B[39m\u001B[38;5;28mself\u001B[39m\u001B[38;5;241m.\u001B[39m_database\u001B[38;5;241m.\u001B[39mclient,\n\u001B[0;32m    826\u001B[0m     retryable_write\u001B[38;5;241m=\u001B[39mretryable_write,\n\u001B[0;32m    827\u001B[0m )\n\u001B[0;32m    829\u001B[0m _check_write_command_response(result)\n",
      "File \u001B[1;32m~\\anaconda3\\Lib\\site-packages\\pymongo\\synchronous\\helpers.py:47\u001B[0m, in \u001B[0;36m_handle_reauth.<locals>.inner\u001B[1;34m(*args, **kwargs)\u001B[0m\n\u001B[0;32m     44\u001B[0m \u001B[38;5;28;01mfrom\u001B[39;00m \u001B[38;5;21;01mpymongo\u001B[39;00m\u001B[38;5;21;01m.\u001B[39;00m\u001B[38;5;21;01msynchronous\u001B[39;00m\u001B[38;5;21;01m.\u001B[39;00m\u001B[38;5;21;01mpool\u001B[39;00m \u001B[38;5;28;01mimport\u001B[39;00m Connection\n\u001B[0;32m     46\u001B[0m \u001B[38;5;28;01mtry\u001B[39;00m:\n\u001B[1;32m---> 47\u001B[0m     \u001B[38;5;28;01mreturn\u001B[39;00m func(\u001B[38;5;241m*\u001B[39margs, \u001B[38;5;241m*\u001B[39m\u001B[38;5;241m*\u001B[39mkwargs)\n\u001B[0;32m     48\u001B[0m \u001B[38;5;28;01mexcept\u001B[39;00m OperationFailure \u001B[38;5;28;01mas\u001B[39;00m exc:\n\u001B[0;32m     49\u001B[0m     \u001B[38;5;28;01mif\u001B[39;00m no_reauth:\n",
      "File \u001B[1;32m~\\anaconda3\\Lib\\site-packages\\pymongo\\synchronous\\pool.py:442\u001B[0m, in \u001B[0;36mConnection.command\u001B[1;34m(self, dbname, spec, read_preference, codec_options, check, allowable_errors, read_concern, write_concern, parse_write_concern_error, collation, session, client, retryable_write, publish_events, user_fields, exhaust_allowed)\u001B[0m\n\u001B[0;32m    440\u001B[0m \u001B[38;5;66;03m# Catch socket.error, KeyboardInterrupt, CancelledError, etc. and close ourselves.\u001B[39;00m\n\u001B[0;32m    441\u001B[0m \u001B[38;5;28;01mexcept\u001B[39;00m \u001B[38;5;167;01mBaseException\u001B[39;00m \u001B[38;5;28;01mas\u001B[39;00m error:\n\u001B[1;32m--> 442\u001B[0m     \u001B[38;5;28mself\u001B[39m\u001B[38;5;241m.\u001B[39m_raise_connection_failure(error)\n",
      "File \u001B[1;32m~\\anaconda3\\Lib\\site-packages\\pymongo\\synchronous\\pool.py:414\u001B[0m, in \u001B[0;36mConnection.command\u001B[1;34m(self, dbname, spec, read_preference, codec_options, check, allowable_errors, read_concern, write_concern, parse_write_concern_error, collation, session, client, retryable_write, publish_events, user_fields, exhaust_allowed)\u001B[0m\n\u001B[0;32m    412\u001B[0m     \u001B[38;5;28mself\u001B[39m\u001B[38;5;241m.\u001B[39m_raise_if_not_writable(unacknowledged)\n\u001B[0;32m    413\u001B[0m \u001B[38;5;28;01mtry\u001B[39;00m:\n\u001B[1;32m--> 414\u001B[0m     \u001B[38;5;28;01mreturn\u001B[39;00m command(\n\u001B[0;32m    415\u001B[0m         \u001B[38;5;28mself\u001B[39m,\n\u001B[0;32m    416\u001B[0m         dbname,\n\u001B[0;32m    417\u001B[0m         spec,\n\u001B[0;32m    418\u001B[0m         \u001B[38;5;28mself\u001B[39m\u001B[38;5;241m.\u001B[39mis_mongos,\n\u001B[0;32m    419\u001B[0m         read_preference,\n\u001B[0;32m    420\u001B[0m         codec_options,\n\u001B[0;32m    421\u001B[0m         session,\n\u001B[0;32m    422\u001B[0m         client,\n\u001B[0;32m    423\u001B[0m         check,\n\u001B[0;32m    424\u001B[0m         allowable_errors,\n\u001B[0;32m    425\u001B[0m         \u001B[38;5;28mself\u001B[39m\u001B[38;5;241m.\u001B[39maddress,\n\u001B[0;32m    426\u001B[0m         listeners,\n\u001B[0;32m    427\u001B[0m         \u001B[38;5;28mself\u001B[39m\u001B[38;5;241m.\u001B[39mmax_bson_size,\n\u001B[0;32m    428\u001B[0m         read_concern,\n\u001B[0;32m    429\u001B[0m         parse_write_concern_error\u001B[38;5;241m=\u001B[39mparse_write_concern_error,\n\u001B[0;32m    430\u001B[0m         collation\u001B[38;5;241m=\u001B[39mcollation,\n\u001B[0;32m    431\u001B[0m         compression_ctx\u001B[38;5;241m=\u001B[39m\u001B[38;5;28mself\u001B[39m\u001B[38;5;241m.\u001B[39mcompression_context,\n\u001B[0;32m    432\u001B[0m         use_op_msg\u001B[38;5;241m=\u001B[39m\u001B[38;5;28mself\u001B[39m\u001B[38;5;241m.\u001B[39mop_msg_enabled,\n\u001B[0;32m    433\u001B[0m         unacknowledged\u001B[38;5;241m=\u001B[39munacknowledged,\n\u001B[0;32m    434\u001B[0m         user_fields\u001B[38;5;241m=\u001B[39muser_fields,\n\u001B[0;32m    435\u001B[0m         exhaust_allowed\u001B[38;5;241m=\u001B[39mexhaust_allowed,\n\u001B[0;32m    436\u001B[0m         write_concern\u001B[38;5;241m=\u001B[39mwrite_concern,\n\u001B[0;32m    437\u001B[0m     )\n\u001B[0;32m    438\u001B[0m \u001B[38;5;28;01mexcept\u001B[39;00m (OperationFailure, NotPrimaryError):\n\u001B[0;32m    439\u001B[0m     \u001B[38;5;28;01mraise\u001B[39;00m\n",
      "File \u001B[1;32m~\\anaconda3\\Lib\\site-packages\\pymongo\\synchronous\\network.py:198\u001B[0m, in \u001B[0;36mcommand\u001B[1;34m(conn, dbname, spec, is_mongos, read_preference, codec_options, session, client, check, allowable_errors, address, listeners, max_bson_size, read_concern, parse_write_concern_error, collation, compression_ctx, use_op_msg, unacknowledged, user_fields, exhaust_allowed, write_concern)\u001B[0m\n\u001B[0;32m    196\u001B[0m     response_doc: _DocumentOut \u001B[38;5;241m=\u001B[39m {\u001B[38;5;124m\"\u001B[39m\u001B[38;5;124mok\u001B[39m\u001B[38;5;124m\"\u001B[39m: \u001B[38;5;241m1\u001B[39m}\n\u001B[0;32m    197\u001B[0m \u001B[38;5;28;01melse\u001B[39;00m:\n\u001B[1;32m--> 198\u001B[0m     reply \u001B[38;5;241m=\u001B[39m receive_message(conn, request_id)\n\u001B[0;32m    199\u001B[0m     conn\u001B[38;5;241m.\u001B[39mmore_to_come \u001B[38;5;241m=\u001B[39m reply\u001B[38;5;241m.\u001B[39mmore_to_come\n\u001B[0;32m    200\u001B[0m     unpacked_docs \u001B[38;5;241m=\u001B[39m reply\u001B[38;5;241m.\u001B[39munpack_response(\n\u001B[0;32m    201\u001B[0m         codec_options\u001B[38;5;241m=\u001B[39mcodec_options, user_fields\u001B[38;5;241m=\u001B[39muser_fields\n\u001B[0;32m    202\u001B[0m     )\n",
      "File \u001B[1;32m~\\anaconda3\\Lib\\site-packages\\pymongo\\network_layer.py:756\u001B[0m, in \u001B[0;36mreceive_message\u001B[1;34m(conn, request_id, max_message_size)\u001B[0m\n\u001B[0;32m    754\u001B[0m         deadline \u001B[38;5;241m=\u001B[39m \u001B[38;5;28;01mNone\u001B[39;00m\n\u001B[0;32m    755\u001B[0m \u001B[38;5;66;03m# Ignore the response's request id.\u001B[39;00m\n\u001B[1;32m--> 756\u001B[0m length, _, response_to, op_code \u001B[38;5;241m=\u001B[39m _UNPACK_HEADER(receive_data(conn, \u001B[38;5;241m16\u001B[39m, deadline))\n\u001B[0;32m    757\u001B[0m \u001B[38;5;66;03m# No request_id for exhaust cursor \"getMore\".\u001B[39;00m\n\u001B[0;32m    758\u001B[0m \u001B[38;5;28;01mif\u001B[39;00m request_id \u001B[38;5;129;01mis\u001B[39;00m \u001B[38;5;129;01mnot\u001B[39;00m \u001B[38;5;28;01mNone\u001B[39;00m:\n",
      "File \u001B[1;32m~\\anaconda3\\Lib\\site-packages\\pymongo\\network_layer.py:351\u001B[0m, in \u001B[0;36mreceive_data\u001B[1;34m(conn, length, deadline)\u001B[0m\n\u001B[0;32m    348\u001B[0m             short_timeout \u001B[38;5;241m=\u001B[39m _POLL_TIMEOUT\n\u001B[0;32m    349\u001B[0m         conn\u001B[38;5;241m.\u001B[39mset_conn_timeout(short_timeout)\n\u001B[1;32m--> 351\u001B[0m     chunk_length \u001B[38;5;241m=\u001B[39m conn\u001B[38;5;241m.\u001B[39mconn\u001B[38;5;241m.\u001B[39mrecv_into(mv[bytes_read:])\n\u001B[0;32m    352\u001B[0m \u001B[38;5;28;01mexcept\u001B[39;00m BLOCKING_IO_ERRORS:\n\u001B[0;32m    353\u001B[0m     \u001B[38;5;28;01mif\u001B[39;00m conn\u001B[38;5;241m.\u001B[39mcancel_context\u001B[38;5;241m.\u001B[39mcancelled:\n",
      "File \u001B[1;32m~\\anaconda3\\Lib\\site-packages\\pymongo\\network_layer.py:466\u001B[0m, in \u001B[0;36mNetworkingInterface.recv_into\u001B[1;34m(self, buffer)\u001B[0m\n\u001B[0;32m    465\u001B[0m \u001B[38;5;28;01mdef\u001B[39;00m \u001B[38;5;21mrecv_into\u001B[39m(\u001B[38;5;28mself\u001B[39m, buffer: \u001B[38;5;28mbytes\u001B[39m) \u001B[38;5;241m-\u001B[39m\u001B[38;5;241m>\u001B[39m \u001B[38;5;28mint\u001B[39m:\n\u001B[1;32m--> 466\u001B[0m     \u001B[38;5;28;01mreturn\u001B[39;00m \u001B[38;5;28mself\u001B[39m\u001B[38;5;241m.\u001B[39mconn\u001B[38;5;241m.\u001B[39mrecv_into(buffer)\n",
      "\u001B[1;31mKeyboardInterrupt\u001B[0m: "
     ]
    }
   ],
   "source": [
    "\n",
    "# Connexion à MongoDB\n",
    "client = MongoClient(\"localhost\", 27017)\n",
    "db = client[\"IF29_twitter_db\"]\n",
    "tweets_collection = db[\"tweets_global\"]\n",
    "\n",
    "# Optionnel : Créer une nouvelle collection pour les utilisateurs\n",
    "users_collection = db[\"user_db\"]\n",
    "\n",
    "# Parcourir tous les tweets\n",
    "cursor = tweets_collection.find({}, {\"user\": 1})  # \"user\"\n",
    "\n",
    "user_ids_seen = set()  # Pas les doublons\n",
    "\n",
    "for doc in cursor:\n",
    "    user = doc.get(\"user\")\n",
    "    if user and user[\"id_str\"] not in user_ids_seen:\n",
    "        user_ids_seen.add(user[\"id_str\"])\n",
    "        users_collection.insert_one(user)\n",
    "\n",
    "print(f\"{len(user_ids_seen)} profils utilisateurs uniques ont été extraits\")\n",
    "client.close()\n"
   ],
   "metadata": {
    "collapsed": false,
    "ExecuteTime": {
     "end_time": "2025-06-08T16:42:38.334952400Z",
     "start_time": "2025-06-08T16:42:17.430902400Z"
    }
   },
   "id": "ba9d01966061d50e",
   "execution_count": 17
  },
  {
   "cell_type": "code",
   "outputs": [
    {
     "data": {
      "text/plain": "       followers_count  friends_count  statuses_count  favourites_count  \\\ncount     2.674680e+05  267468.000000    2.674680e+05      2.674680e+05   \nmean      7.829827e+03    1101.990941    2.220438e+04      9.108702e+03   \nstd       1.817385e+05    5539.316636    5.474554e+04      2.527177e+04   \nmin       0.000000e+00       0.000000    1.000000e+00      0.000000e+00   \n25%       1.240000e+02     186.000000    1.329000e+03      3.800000e+02   \n50%       3.630000e+02     408.000000    6.275000e+03      1.946000e+03   \n75%       1.019000e+03     906.000000    2.175100e+04      7.547250e+03   \nmax       3.075537e+07  544830.000000    8.898917e+06      1.718515e+06   \n\n       followers_friends_ratio  account_age_years  tweets_per_year  \ncount             2.674680e+05      267468.000000    267468.000000  \nmean              1.699535e+02          11.807005      1726.620049  \nstd               1.217053e+04           2.853117      4050.877399  \nmin               0.000000e+00           6.989041         0.062175  \n25%               3.745815e-01           9.268493       121.753072  \n50%               8.455442e-01          12.180822       520.940929  \n75%               1.555358e+00          14.115068      1722.075068  \nmax               4.372115e+06          18.824658    490909.802010  ",
      "text/html": "<div>\n<style scoped>\n    .dataframe tbody tr th:only-of-type {\n        vertical-align: middle;\n    }\n\n    .dataframe tbody tr th {\n        vertical-align: top;\n    }\n\n    .dataframe thead th {\n        text-align: right;\n    }\n</style>\n<table border=\"1\" class=\"dataframe\">\n  <thead>\n    <tr style=\"text-align: right;\">\n      <th></th>\n      <th>followers_count</th>\n      <th>friends_count</th>\n      <th>statuses_count</th>\n      <th>favourites_count</th>\n      <th>followers_friends_ratio</th>\n      <th>account_age_years</th>\n      <th>tweets_per_year</th>\n    </tr>\n  </thead>\n  <tbody>\n    <tr>\n      <th>count</th>\n      <td>2.674680e+05</td>\n      <td>267468.000000</td>\n      <td>2.674680e+05</td>\n      <td>2.674680e+05</td>\n      <td>2.674680e+05</td>\n      <td>267468.000000</td>\n      <td>267468.000000</td>\n    </tr>\n    <tr>\n      <th>mean</th>\n      <td>7.829827e+03</td>\n      <td>1101.990941</td>\n      <td>2.220438e+04</td>\n      <td>9.108702e+03</td>\n      <td>1.699535e+02</td>\n      <td>11.807005</td>\n      <td>1726.620049</td>\n    </tr>\n    <tr>\n      <th>std</th>\n      <td>1.817385e+05</td>\n      <td>5539.316636</td>\n      <td>5.474554e+04</td>\n      <td>2.527177e+04</td>\n      <td>1.217053e+04</td>\n      <td>2.853117</td>\n      <td>4050.877399</td>\n    </tr>\n    <tr>\n      <th>min</th>\n      <td>0.000000e+00</td>\n      <td>0.000000</td>\n      <td>1.000000e+00</td>\n      <td>0.000000e+00</td>\n      <td>0.000000e+00</td>\n      <td>6.989041</td>\n      <td>0.062175</td>\n    </tr>\n    <tr>\n      <th>25%</th>\n      <td>1.240000e+02</td>\n      <td>186.000000</td>\n      <td>1.329000e+03</td>\n      <td>3.800000e+02</td>\n      <td>3.745815e-01</td>\n      <td>9.268493</td>\n      <td>121.753072</td>\n    </tr>\n    <tr>\n      <th>50%</th>\n      <td>3.630000e+02</td>\n      <td>408.000000</td>\n      <td>6.275000e+03</td>\n      <td>1.946000e+03</td>\n      <td>8.455442e-01</td>\n      <td>12.180822</td>\n      <td>520.940929</td>\n    </tr>\n    <tr>\n      <th>75%</th>\n      <td>1.019000e+03</td>\n      <td>906.000000</td>\n      <td>2.175100e+04</td>\n      <td>7.547250e+03</td>\n      <td>1.555358e+00</td>\n      <td>14.115068</td>\n      <td>1722.075068</td>\n    </tr>\n    <tr>\n      <th>max</th>\n      <td>3.075537e+07</td>\n      <td>544830.000000</td>\n      <td>8.898917e+06</td>\n      <td>1.718515e+06</td>\n      <td>4.372115e+06</td>\n      <td>18.824658</td>\n      <td>490909.802010</td>\n    </tr>\n  </tbody>\n</table>\n</div>"
     },
     "metadata": {},
     "output_type": "display_data"
    },
    {
     "name": "stderr",
     "output_type": "stream",
     "text": [
      "C:\\Users\\MSI\\anaconda3\\Lib\\site-packages\\seaborn\\_oldcore.py:1119: FutureWarning: use_inf_as_na option is deprecated and will be removed in a future version. Convert inf values to NaN before operating instead.\n",
      "  with pd.option_context('mode.use_inf_as_na', True):\n"
     ]
    }
   ],
   "source": [
    "import pandas as pd\n",
    "from pymongo import MongoClient\n",
    "from datetime import datetime, timezone\n",
    "import matplotlib.pyplot as plt\n",
    "import seaborn as sns\n",
    "\n",
    "# Connexion MongoDB\n",
    "client = MongoClient(\"localhost\", 27017)\n",
    "db = client[\"IF29_twitter_db\"]\n",
    "user_col = db[\"twitter_users\"]\n",
    "\n",
    "# Chargement des utilisateurs\n",
    "users = list(user_col.find())\n",
    "df_users = pd.DataFrame(users)\n",
    "\n",
    "# Conversion de la date de création des comptes\n",
    "df_users[\"created_at\"] = pd.to_datetime(\n",
    "    df_users[\"created_at\"], format=\"%a %b %d %H:%M:%S %z %Y\", errors=\"coerce\"\n",
    ")\n",
    "\n",
    "# Calcul de l age du compte\n",
    "now_utc = datetime.utcnow().replace(tzinfo=timezone.utc)\n",
    "df_users[\"account_age_years\"] = (now_utc - df_users[\"created_at\"]).dt.days / 365\n",
    "\n",
    "# Calculs dérivés\n",
    "df_users[\"followers_friends_ratio\"] = df_users[\"followers_count\"] / (df_users[\"friends_count\"] + 1)\n",
    "df_users[\"tweets_per_year\"] = df_users[\"statuses_count\"] / (df_users[\"account_age_years\"] + 0.1)\n",
    "\n",
    "# Nettoyage des valeurs \n",
    "df_users.replace([float('inf'), -float('inf')], pd.NA, inplace=True)\n",
    "df_users.dropna(subset=[\"followers_friends_ratio\", \"account_age_years\", \"tweets_per_year\"], inplace=True)\n",
    "\n",
    "# Statistiques de base\n",
    "display(df_users[[\n",
    "    \"followers_count\", \"friends_count\", \"statuses_count\",\n",
    "    \"favourites_count\", \"followers_friends_ratio\",\n",
    "    \"account_age_years\", \"tweets_per_year\"\n",
    "]].describe())\n",
    "\n",
    "# Distribution du nombre de followers (log-log)\n",
    "df_plot = df_users[df_users[\"followers_count\"] > 0]\n",
    "\n",
    "plt.figure(figsize=(10, 4))\n",
    "sns.histplot(df_plot[\"followers_count\"], bins=100, log_scale=(True, True), color=\"skyblue\")\n",
    "plt.title(\"Distribution du nombre de followers (log-log)\")\n",
    "plt.xlabel(\"Followers\")\n",
    "plt.ylabel(\"Nombre d'utilisateurs\")\n",
    "plt.show()\n",
    "\n",
    "# Boxplot du ratio followers / friends\n",
    "plt.figure(figsize=(10, 2))\n",
    "sns.boxplot(x=df_users[\"followers_friends_ratio\"], color=\"lightgreen\")\n",
    "plt.title(\"Boxplot du ratio followers / friends\")\n",
    "plt.show()\n"
   ],
   "metadata": {
    "collapsed": false,
    "ExecuteTime": {
     "end_time": "2025-06-08T17:14:51.977099900Z",
     "start_time": "2025-06-08T17:13:38.920314900Z"
    }
   },
   "id": "fc2b144f86b90e60",
   "execution_count": 26
  },
  {
   "cell_type": "code",
   "outputs": [],
   "source": [],
   "metadata": {
    "collapsed": false
   },
   "id": "57d96b3aecaa26e6"
  }
 ],
 "metadata": {
  "kernelspec": {
   "display_name": "Python 3",
   "language": "python",
   "name": "python3"
  },
  "language_info": {
   "codemirror_mode": {
    "name": "ipython",
    "version": 2
   },
   "file_extension": ".py",
   "mimetype": "text/x-python",
   "name": "python",
   "nbconvert_exporter": "python",
   "pygments_lexer": "ipython2",
   "version": "2.7.6"
  }
 },
 "nbformat": 4,
 "nbformat_minor": 5
}
